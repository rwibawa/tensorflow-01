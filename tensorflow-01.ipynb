{
 "cells": [
  {
   "cell_type": "markdown",
   "id": "cf687f84-ee98-45ff-ace8-100660c7841e",
   "metadata": {},
   "source": [
    "# TensorFlow Tutorial\n",
    "[Tutorial](https://www.tensorflow.org/tutorials/quickstart/beginner)\n",
    "\n",
    "## 1. Set up TensorFlow\n",
    "Check if it's using GPU or CPU."
   ]
  },
  {
   "cell_type": "code",
   "execution_count": null,
   "id": "098cc12f-4320-4cd1-b672-f9264dac3dd9",
   "metadata": {},
   "outputs": [
    {
     "name": "stdout",
     "output_type": "stream",
     "text": [
      "TensorFlow version: 2.18.0\n",
      "Num GPUs Available:  1\n"
     ]
    }
   ],
   "source": [
    "import tensorflow as tf\n",
    "print(\"TensorFlow version:\", tf.__version__)\n",
    "print(\"Num GPUs Available: \", len(tf.config.list_physical_devices('GPU')))"
   ]
  },
  {
   "cell_type": "markdown",
   "id": "68a68dcf-358e-4c73-bc64-b4ad12c674d9",
   "metadata": {},
   "source": [
    "## 2. Load a dataset\n",
    "Load and prepare the MNIST dataset. The pixel values of the images range from 0 through 255. Scale these values to a range of 0 to 1 by dividing the values by 255.0.\n",
    "\n",
    "This also converts the sample data from integers to floating-point numbers:"
   ]
  },
  {
   "cell_type": "code",
   "execution_count": null,
   "id": "9272a456-09bd-4ff0-9283-14066eb48fa3",
   "metadata": {},
   "outputs": [],
   "source": [
    "mnist = tf.keras.datasets.mnist\n",
    "\n",
    "(x_train, y_train), (x_test, y_test) = mnist.load_data()\n",
    "x_train, x_test = x_train / 255.0, x_test / 255.0"
   ]
  },
  {
   "cell_type": "markdown",
   "id": "5e3e1d4a-c72e-4bb9-8195-68d36cdff7f6",
   "metadata": {},
   "source": [
    "## 3. Build a machine learning model\n",
    "\n",
    "Build a `tf.keras.Sequential` model:"
   ]
  },
  {
   "cell_type": "code",
   "execution_count": null,
   "id": "6659572d-0f57-4432-ac27-dc05b77b7b6e",
   "metadata": {},
   "outputs": [],
   "source": [
    "model = tf.keras.models.Sequential([\n",
    "  tf.keras.layers.Flatten(input_shape=(28, 28)),\n",
    "  tf.keras.layers.Dense(128, activation='relu'),\n",
    "  tf.keras.layers.Dropout(0.2),\n",
    "  tf.keras.layers.Dense(10)\n",
    "])"
   ]
  },
  {
   "cell_type": "markdown",
   "id": "8966b681-f2c9-4b0b-8658-5f6e3d05257d",
   "metadata": {},
   "source": [
    "`Sequential` is useful for stacking layers where each layer has one input `tensor` and one output tensor. \n",
    "Layers are functions with a known mathematical structure that can be reused and have trainable variables. \n",
    "Most TensorFlow models are composed of layers. This model uses the `Flatten`, `Dense`, and `Dropout` layers.\n",
    "\n",
    "For each example, the model returns a vector of **logits** or **log-odds** scores, one for each class."
   ]
  },
  {
   "cell_type": "code",
   "execution_count": null,
   "id": "742f7173-8301-4b57-a361-8914f784cef3",
   "metadata": {},
   "outputs": [
    {
     "data": {
      "text/plain": [
       "array([[-0.57301325, -0.74390036, -0.37216696, -0.5810667 ,  0.45771423,\n",
       "        -0.82462615, -0.02980839,  0.1465517 ,  0.23420456,  1.1779552 ]],\n",
       "      dtype=float32)"
      ]
     },
     "execution_count": 15,
     "metadata": {},
     "output_type": "execute_result"
    }
   ],
   "source": [
    "predictions = model(x_train[:1]).numpy()\n",
    "predictions"
   ]
  },
  {
   "cell_type": "markdown",
   "id": "bee16846-fc6b-41d6-a6db-9167abf111fa",
   "metadata": {},
   "source": [
    "The `tf.nn.softmax` function converts these logits to _probabilities_ for each class:"
   ]
  },
  {
   "cell_type": "code",
   "execution_count": null,
   "id": "cfe7e537-c262-4cf9-b471-1303fc520cd3",
   "metadata": {},
   "outputs": [
    {
     "data": {
      "text/plain": [
       "array([[0.05150689, 0.04341602, 0.06296391, 0.05109375, 0.14437918,\n",
       "        0.04004896, 0.0886699 , 0.10577144, 0.11546107, 0.29668885]],\n",
       "      dtype=float32)"
      ]
     },
     "execution_count": 16,
     "metadata": {},
     "output_type": "execute_result"
    }
   ],
   "source": [
    "tf.nn.softmax(predictions).numpy()"
   ]
  },
  {
   "cell_type": "markdown",
   "id": "b8991cb5-9f49-47f5-bd65-572acef0a395",
   "metadata": {},
   "source": [
    "  Note: It is possible to bake the __tf.nn.softmax__ function into the activation function for the last layer of the network. While this can make the model output more directly interpretable, this approach is discouraged as it's impossible to provide an exact and numerically stable loss calculation for all models when using a softmax output.\n",
    "\n",
    "Define a loss function for training using losses.SparseCategoricalCrossentropy:"
   ]
  },
  {
   "cell_type": "code",
   "execution_count": null,
   "id": "9402c108-3d0b-471c-b4a8-f2d690e43dc4",
   "metadata": {},
   "outputs": [],
   "source": [
    "loss_fn = tf.keras.losses.SparseCategoricalCrossentropy(from_logits=True)"
   ]
  },
  {
   "cell_type": "markdown",
   "id": "10535a37-27c4-4dbf-82c5-61d7671e8b6a",
   "metadata": {},
   "source": [
    "The loss function takes a vector of ground truth values and a vector of logits and returns a scalar loss for each example. \n",
    "This loss is equal to the negative log probability of the true class: The loss is zero if the model is sure of the correct class.\n",
    "\n",
    "This untrained model gives probabilities close to random (1/10 for each class), so the initial loss should be close to `-tf.math.log(1/10) ~= 2.3`."
   ]
  },
  {
   "cell_type": "code",
   "execution_count": null,
   "id": "aa4a3f56-4002-4212-8a7d-f5ed03412f20",
   "metadata": {},
   "outputs": [
    {
     "data": {
      "text/plain": [
       "np.float32(3.2176528)"
      ]
     },
     "execution_count": 18,
     "metadata": {},
     "output_type": "execute_result"
    }
   ],
   "source": [
    "loss_fn(y_train[:1], predictions).numpy()"
   ]
  },
  {
   "cell_type": "markdown",
   "id": "07da8744-8a6c-43c4-8db5-0cefd770e3b4",
   "metadata": {},
   "source": [
    "Before you start training, configure and compile the model using Keras `Model.compile`. \n",
    "Set the `optimizer` class to `adam`, set the `loss` to the `loss_fn` function you defined earlier, and specify a metric to be evaluated for the model by setting the `metrics` parameter to `accuracy`."
   ]
  },
  {
   "cell_type": "code",
   "execution_count": null,
   "id": "f846ba3d-c796-4358-9bc5-58741dfb814a",
   "metadata": {},
   "outputs": [],
   "source": [
    "model.compile(optimizer='adam',\n",
    "              loss=loss_fn,\n",
    "              metrics=['accuracy'])"
   ]
  },
  {
   "cell_type": "markdown",
   "id": "03e1bc9c-4f65-424b-989e-6455401923c8",
   "metadata": {},
   "source": [
    "## Train and evaluate your model\n",
    "Use the `Model.fit` method to adjust your model parameters and minimize the loss:"
   ]
  },
  {
   "cell_type": "code",
   "execution_count": null,
   "id": "caf689c8-98b3-4ca1-90fa-22fd5fece39b",
   "metadata": {},
   "outputs": [
    {
     "name": "stdout",
     "output_type": "stream",
     "text": [
      "Epoch 1/5\n",
      "\u001b[1m1875/1875\u001b[0m \u001b[32m━━━━━━━━━━━━━━━━━━━━\u001b[0m\u001b[37m\u001b[0m \u001b[1m9s\u001b[0m 4ms/step - accuracy: 0.8592 - loss: 0.4829 \n",
      "Epoch 2/5\n",
      "\u001b[1m1875/1875\u001b[0m \u001b[32m━━━━━━━━━━━━━━━━━━━━\u001b[0m\u001b[37m\u001b[0m \u001b[1m6s\u001b[0m 3ms/step - accuracy: 0.9560 - loss: 0.1495\n",
      "Epoch 3/5\n",
      "\u001b[1m1875/1875\u001b[0m \u001b[32m━━━━━━━━━━━━━━━━━━━━\u001b[0m\u001b[37m\u001b[0m \u001b[1m6s\u001b[0m 3ms/step - accuracy: 0.9667 - loss: 0.1109\n",
      "Epoch 4/5\n",
      "\u001b[1m1875/1875\u001b[0m \u001b[32m━━━━━━━━━━━━━━━━━━━━\u001b[0m\u001b[37m\u001b[0m \u001b[1m7s\u001b[0m 3ms/step - accuracy: 0.9729 - loss: 0.0855\n",
      "Epoch 5/5\n",
      "\u001b[1m1875/1875\u001b[0m \u001b[32m━━━━━━━━━━━━━━━━━━━━\u001b[0m\u001b[37m\u001b[0m \u001b[1m7s\u001b[0m 3ms/step - accuracy: 0.9758 - loss: 0.0766\n"
     ]
    },
    {
     "data": {
      "text/plain": [
       "<keras.src.callbacks.history.History at 0x7fd095953610>"
      ]
     },
     "execution_count": 20,
     "metadata": {},
     "output_type": "execute_result"
    }
   ],
   "source": [
    "model.fit(x_train, y_train, epochs=5)"
   ]
  },
  {
   "cell_type": "markdown",
   "id": "acf53ca0-61ae-44f9-847c-12e4f0ef4f7b",
   "metadata": {},
   "source": [
    "The `Model.evaluate` method checks the model's performance, usually on a `validation set` or `test set`."
   ]
  },
  {
   "cell_type": "code",
   "execution_count": null,
   "id": "50c8b358-85a8-491a-8553-449cb04bc847",
   "metadata": {},
   "outputs": [
    {
     "name": "stdout",
     "output_type": "stream",
     "text": [
      "313/313 - 1s - 5ms/step - accuracy: 0.9766 - loss: 0.0752\n"
     ]
    },
    {
     "data": {
      "text/plain": [
       "[0.0751836895942688, 0.9765999913215637]"
      ]
     },
     "execution_count": 21,
     "metadata": {},
     "output_type": "execute_result"
    }
   ],
   "source": [
    "model.evaluate(x_test,  y_test, verbose=2)"
   ]
  },
  {
   "cell_type": "markdown",
   "id": "94f5eefc-4162-418c-95b4-23c11031d2f0",
   "metadata": {},
   "source": [
    "The image classifier is now trained to ~98% accuracy on this dataset. To learn more, read the [TensorFlow tutorials](https://www.tensorflow.org/tutorials/).\n",
    "\n",
    "If you want your model to return a probability, you can wrap the trained model, and attach the softmax to it:"
   ]
  },
  {
   "cell_type": "code",
   "execution_count": null,
   "id": "36201f2e-0133-4f63-97bf-b182c7aa275e",
   "metadata": {},
   "outputs": [
    {
     "data": {
      "text/plain": [
       "<tf.Tensor: shape=(5, 10), dtype=float32, numpy=\n",
       "array([[4.1372850e-08, 1.4333100e-09, 5.7370285e-06, 2.5904415e-05,\n",
       "        2.4280000e-11, 7.1414159e-09, 1.2791366e-15, 9.9996567e-01,\n",
       "        1.6095250e-07, 2.4618687e-06],\n",
       "       [1.3120092e-08, 3.3387962e-06, 9.9996686e-01, 2.8204093e-05,\n",
       "        4.9323986e-17, 1.2828248e-06, 1.1766929e-07, 4.4181686e-14,\n",
       "        1.3046110e-07, 3.7538728e-14],\n",
       "       [2.6407400e-07, 9.9763298e-01, 7.0016875e-05, 4.0894654e-05,\n",
       "        1.2793127e-05, 4.7679649e-05, 2.5223508e-05, 1.9067433e-03,\n",
       "        2.6283573e-04, 6.1004721e-07],\n",
       "       [9.9985003e-01, 8.4226146e-09, 9.7979602e-05, 1.7643434e-07,\n",
       "        4.4009045e-08, 2.4485769e-05, 1.8970877e-05, 5.1237390e-07,\n",
       "        3.7211475e-08, 7.7306668e-06],\n",
       "       [8.6292375e-06, 5.9997791e-11, 2.6453090e-06, 2.2828803e-09,\n",
       "        9.9903464e-01, 5.9454951e-08, 5.1710508e-06, 6.9353018e-06,\n",
       "        2.0509464e-07, 9.4169605e-04]], dtype=float32)>"
      ]
     },
     "execution_count": 22,
     "metadata": {},
     "output_type": "execute_result"
    }
   ],
   "source": [
    "probability_model = tf.keras.Sequential([\n",
    "  model,\n",
    "  tf.keras.layers.Softmax()\n",
    "])\n",
    "\n",
    "probability_model(x_test[:5])"
   ]
  },
  {
   "cell_type": "markdown",
   "id": "1b0caf0e-87fb-42be-85d9-cfaad87046ff",
   "metadata": {},
   "source": [
    "## Conclusion\n",
    "Congratulations! You have trained a machine learning model using a prebuilt dataset using the [Keras](https://www.tensorflow.org/guide/keras/overview) API."
   ]
  }
 ],
 "metadata": {
  "kernelspec": {
   "display_name": "Python 3 (ipykernel)",
   "language": "python",
   "name": "python3"
  },
  "language_info": {
   "codemirror_mode": {
    "name": "ipython",
    "version": 3
   },
   "file_extension": ".py",
   "mimetype": "text/x-python",
   "name": "python",
   "nbconvert_exporter": "python",
   "pygments_lexer": "ipython3",
   "version": "3.11.11"
  }
 },
 "nbformat": 4,
 "nbformat_minor": 5
}
